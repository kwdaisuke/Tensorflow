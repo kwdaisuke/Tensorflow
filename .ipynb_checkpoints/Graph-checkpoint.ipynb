{
 "cells": [
  {
   "cell_type": "code",
   "execution_count": null,
   "id": "appointed-particle",
   "metadata": {},
   "outputs": [],
   "source": [
    "import tensorflow as tf"
   ]
  },
  {
   "cell_type": "code",
   "execution_count": null,
   "id": "moderate-annotation",
   "metadata": {},
   "outputs": [],
   "source": [
    "@tf.function\n",
    "def add(a, b):\n",
    "    return a + b"
   ]
  },
  {
   "cell_type": "code",
   "execution_count": null,
   "id": "early-armstrong",
   "metadata": {},
   "outputs": [],
   "source": [
    "def linear_layer(x):\n",
    "    return 2*x + 1\n",
    "\n",
    "@tf.function\n",
    "def deep_net(x):\n",
    "    return tf.nn.relu(linear_layer(x))"
   ]
  },
  {
   "cell_type": "code",
   "execution_count": null,
   "id": "developing-corruption",
   "metadata": {},
   "outputs": [],
   "source": [
    "deep_net(12)"
   ]
  },
  {
   "cell_type": "markdown",
   "id": "renewable-dressing",
   "metadata": {},
   "source": [
    "### Polymorphic"
   ]
  },
  {
   "cell_type": "code",
   "execution_count": null,
   "id": "fantastic-brook",
   "metadata": {},
   "outputs": [],
   "source": [
    "@tf.function\n",
    "def double(a):\n",
    "    return a + a"
   ]
  },
  {
   "cell_type": "code",
   "execution_count": null,
   "id": "executive-replication",
   "metadata": {},
   "outputs": [],
   "source": [
    "print(double(tf.constant(1)).numpy())\n",
    "print(double(tf.constant(1.1)).numpy())\n",
    "print(double(tf.constant(\"a\")).numpy()) # byte literal"
   ]
  },
  {
   "cell_type": "code",
   "execution_count": 34,
   "id": "becoming-business",
   "metadata": {},
   "outputs": [],
   "source": [
    "import time\n",
    "def timer(func):\n",
    "    def inner(*args):\n",
    "        begin = time.time()\n",
    "        func(*args)\n",
    "        end = time.time()\n",
    "        print(\"Total time taken:\", func.__name__, end-begin)\n",
    "    return inner"
   ]
  },
  {
   "cell_type": "code",
   "execution_count": 71,
   "id": "crucial-lightweight",
   "metadata": {},
   "outputs": [
    {
     "name": "stdout",
     "output_type": "stream",
     "text": [
      "def tf__fizzbuzz(n):\n",
      "    with ag__.FunctionScope('fizzbuzz', 'fscope', ag__.ConversionOptions(recursive=True, user_requested=True, optional_features=(), internal_convert_user_code=True)) as fscope:\n",
      "        do_return = False\n",
      "        retval_ = ag__.UndefinedReturnValue()\n",
      "        counter = 0\n",
      "\n",
      "        def get_state_3():\n",
      "            return (counter, n)\n",
      "\n",
      "        def set_state_3(vars_):\n",
      "            nonlocal n, counter\n",
      "            (counter, n) = vars_\n",
      "\n",
      "        def loop_body(itr):\n",
      "            nonlocal n, counter\n",
      "            n = itr\n",
      "\n",
      "            def get_state_2():\n",
      "                return ()\n",
      "\n",
      "            def set_state_2(block_vars):\n",
      "                pass\n",
      "\n",
      "            def if_body_2():\n",
      "                ag__.ld(print)('FizzBuzz')\n",
      "\n",
      "            def else_body_2():\n",
      "\n",
      "                def get_state_1():\n",
      "                    return ()\n",
      "\n",
      "                def set_state_1(block_vars):\n",
      "                    pass\n",
      "\n",
      "                def if_body_1():\n",
      "                    ag__.ld(print)('Fizz')\n",
      "\n",
      "                def else_body_1():\n",
      "\n",
      "                    def get_state():\n",
      "                        return ()\n",
      "\n",
      "                    def set_state(block_vars):\n",
      "                        pass\n",
      "\n",
      "                    def if_body():\n",
      "                        ag__.ld(print)('Buzz')\n",
      "\n",
      "                    def else_body():\n",
      "                        ag__.ld(print)(ag__.ld(n))\n",
      "                    ag__.if_stmt(((ag__.ld(n) % 5) == 0), if_body, else_body, get_state, set_state, (), 0)\n",
      "                ag__.if_stmt(((ag__.ld(n) % 3) == 0), if_body_1, else_body_1, get_state_1, set_state_1, (), 0)\n",
      "            ag__.if_stmt(ag__.and_((lambda : ((ag__.ld(n) % 3) == 0)), (lambda : ((ag__.ld(n) % 5) == 0))), if_body_2, else_body_2, get_state_2, set_state_2, (), 0)\n",
      "            counter = ag__.ld(counter)\n",
      "            counter += 1\n",
      "        ag__.for_stmt(ag__.converted_call(ag__.ld(range), (1, ag__.ld(n)), None, fscope), None, loop_body, get_state_3, set_state_3, ('counter', 'n'), {'iterate_names': 'n'})\n",
      "        try:\n",
      "            do_return = True\n",
      "            retval_ = ag__.ld(counter)\n",
      "        except:\n",
      "            do_return = False\n",
      "            raise\n",
      "        return fscope.ret(retval_, do_return)\n",
      "\n"
     ]
    }
   ],
   "source": [
    "@tf.function\n",
    "def fizzbuzz(n):\n",
    "    counter = 0\n",
    "    for n in range(1,n):\n",
    "        if n%3==0 and n%5==0:\n",
    "            print(\"FizzBuzz\")\n",
    "        elif n%3==0:\n",
    "            print(\"Fizz\")\n",
    "        elif n%5==0:\n",
    "            print( \"Buzz\")\n",
    "        else:\n",
    "            print(n)\n",
    "        counter +=1\n",
    "    return counter\n",
    "print(tf.autograph.to_code(fizzbuzz.python_function))"
   ]
  },
  {
   "cell_type": "code",
   "execution_count": 72,
   "id": "established-preparation",
   "metadata": {},
   "outputs": [
    {
     "name": "stdout",
     "output_type": "stream",
     "text": [
      "1\n",
      "2\n",
      "Fizz\n",
      "4\n",
      "Buzz\n",
      "Fizz\n",
      "7\n",
      "8\n",
      "Fizz\n",
      "Buzz\n",
      "11\n",
      "Fizz\n",
      "13\n",
      "14\n",
      "FizzBuzz\n",
      "16\n",
      "17\n",
      "Fizz\n",
      "19\n",
      "Buzz\n",
      "Fizz\n",
      "22\n",
      "23\n",
      "Fizz\n",
      "Buzz\n",
      "26\n",
      "Fizz\n",
      "28\n",
      "29\n",
      "FizzBuzz\n",
      "31\n",
      "32\n",
      "Fizz\n",
      "34\n",
      "Buzz\n",
      "Fizz\n",
      "37\n",
      "38\n",
      "Fizz\n",
      "Buzz\n",
      "41\n",
      "Fizz\n",
      "43\n",
      "44\n",
      "FizzBuzz\n",
      "46\n",
      "47\n",
      "Fizz\n",
      "49\n",
      "Buzz\n",
      "Fizz\n",
      "52\n",
      "53\n",
      "Fizz\n",
      "Buzz\n",
      "56\n",
      "Fizz\n",
      "58\n",
      "59\n",
      "FizzBuzz\n",
      "61\n",
      "62\n",
      "Fizz\n",
      "64\n",
      "Buzz\n",
      "Fizz\n",
      "67\n",
      "68\n",
      "Fizz\n",
      "Buzz\n",
      "71\n",
      "Fizz\n",
      "73\n",
      "74\n",
      "FizzBuzz\n",
      "76\n",
      "77\n",
      "Fizz\n",
      "79\n",
      "Buzz\n",
      "Fizz\n",
      "82\n",
      "83\n",
      "Fizz\n",
      "Buzz\n",
      "86\n",
      "Fizz\n",
      "88\n",
      "89\n",
      "FizzBuzz\n",
      "91\n",
      "92\n",
      "Fizz\n",
      "94\n",
      "Buzz\n",
      "Fizz\n",
      "97\n",
      "98\n",
      "Fizz\n"
     ]
    },
    {
     "data": {
      "text/plain": [
       "<tf.Tensor: shape=(), dtype=int32, numpy=99>"
      ]
     },
     "execution_count": 72,
     "metadata": {},
     "output_type": "execute_result"
    }
   ],
   "source": [
    "fizzbuzz(100)"
   ]
  },
  {
   "cell_type": "code",
   "execution_count": 108,
   "id": "later-string",
   "metadata": {},
   "outputs": [],
   "source": [
    "@tf.function\n",
    "def fibonacci(n):\n",
    "    if n<=0:\n",
    "        return False\n",
    "    elif n ==1:\n",
    "        return 0\n",
    "    elif n ==2:\n",
    "        return 1\n",
    "    else:\n",
    "        return (fibonacci(n-1) + fibonacci(n-2))"
   ]
  },
  {
   "cell_type": "code",
   "execution_count": null,
   "id": "headed-klein",
   "metadata": {},
   "outputs": [],
   "source": [
    "print(tf.autograph.to_code(fibonacci.python_function))"
   ]
  },
  {
   "cell_type": "code",
   "execution_count": null,
   "id": "accurate-lawsuit",
   "metadata": {},
   "outputs": [
    {
     "name": "stdout",
     "output_type": "stream",
     "text": [
      "tf.Tensor(0, shape=(), dtype=int32)\n",
      "tf.Tensor(1, shape=(), dtype=int32)\n"
     ]
    }
   ],
   "source": [
    "for i in range(1,100):\n",
    "    print(fibonacci(i))"
   ]
  },
  {
   "cell_type": "code",
   "execution_count": null,
   "id": "awful-lancaster",
   "metadata": {},
   "outputs": [],
   "source": []
  }
 ],
 "metadata": {
  "kernelspec": {
   "display_name": "Python 3",
   "language": "python",
   "name": "python3"
  },
  "language_info": {
   "codemirror_mode": {
    "name": "ipython",
    "version": 3
   },
   "file_extension": ".py",
   "mimetype": "text/x-python",
   "name": "python",
   "nbconvert_exporter": "python",
   "pygments_lexer": "ipython3",
   "version": "3.8.3"
  }
 },
 "nbformat": 4,
 "nbformat_minor": 5
}
