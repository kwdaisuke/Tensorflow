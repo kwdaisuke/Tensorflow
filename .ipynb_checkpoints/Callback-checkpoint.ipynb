{
 "cells": [
  {
   "cell_type": "code",
   "execution_count": null,
   "id": "copyrighted-magic",
   "metadata": {},
   "outputs": [],
   "source": [
    "import os\n",
    "import datetime\n",
    "import numpy as np\n",
    "import tensorflow as tf\n",
    "from keras.callbacks import ReduceLROnPlateau, CSVLogger, EarlyStopping, ModelCheckpoint\n",
    "\n",
    "log_dir = os.path.join(\"logs\", datetime.datetime.now().strftime(\"%Y%m%d-%H%M%S\"))\n",
    "\n",
    "callback = {\"early_stopping\": EarlyStopping(patience=3, monitor=\"val_loss\", restore_best_weights=False),\n",
    "            \"tensorboard\"   : tf.keras.callbacks.TensorBoard(log_dir=log_dir), # %load_ext tensorboard, %tensorboard --logdir logs\n",
    "            \"reduce_lr\"     : ReduceLROnPlateau(monitor='val_loss',factor=np.sqrt(0.1), patience=5, min_lr=0.5e-6),\n",
    "            \"check_point\"   : ModelCheckpoint(\"model\", save_best_only=True, verbose=1),\n",
    "            \"log_csv\"       : CSVLogger(\"training.csv\") \n",
    "           }\n",
    "\n",
    "model.compile(loss='categorical_crossentropy', optimizer=\"Adam\", metrics=['accuracy'])                                           \n",
    " \n",
    "history = model.fit(X_train, y_train, batch_size=batch_size, validation_data=(X_test, y_test),\n",
    "          epochs=epochs, callbacks=[callback[\"check_point\"]])   "
   ]
  }
 ],
 "metadata": {
  "kernelspec": {
   "display_name": "Python 3",
   "language": "python",
   "name": "python3"
  },
  "language_info": {
   "codemirror_mode": {
    "name": "ipython",
    "version": 3
   },
   "file_extension": ".py",
   "mimetype": "text/x-python",
   "name": "python",
   "nbconvert_exporter": "python",
   "pygments_lexer": "ipython3",
   "version": "3.8.3"
  }
 },
 "nbformat": 4,
 "nbformat_minor": 5
}
